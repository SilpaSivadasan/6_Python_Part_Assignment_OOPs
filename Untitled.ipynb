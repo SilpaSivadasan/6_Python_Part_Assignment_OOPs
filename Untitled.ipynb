{
 "cells": [
  {
   "cell_type": "markdown",
   "id": "9965e0fb-dd15-4743-8f1e-da5bfebce5ad",
   "metadata": {},
   "source": [
    "Build a program to manage a university's course catalog. You want to define a base class Course that has the following properties: course_code: a string representing the course code (e.g., \"CS101\") course_name: a string representing the course name (e.g., \"Introduction to Computer Science\") credit_hours: an integer representing the credit hours for the course (e.g., 3) You also want to define two subclasses CoreCourse and ElectiveCourse, which inherit from the Course class. CoreCourse should have an additional property required_for_major which is a boolean representing whether the course is required for a particular major. ElectiveCourse should have an additional property elective_type which is a string representing the type of elective (e.g., \"general\", \"technical\", \"liberal arts\")"
   ]
  },
  {
   "cell_type": "code",
   "execution_count": 3,
   "id": "1639261e-211d-4ef6-aa52-afcc75bb72de",
   "metadata": {},
   "outputs": [
    {
     "name": "stdout",
     "output_type": "stream",
     "text": [
      "CS101: Introduction to Computer Science (3 credit hours) - Required for major\n",
      "HIST202: World History (2 credit hours) - Elective Type: liberal arts\n"
     ]
    }
   ],
   "source": [
    "class Course:\n",
    "    def __init__(self, course_code, course_name, credit_hours):\n",
    "        self.course_code = course_code\n",
    "        self.course_name = course_name\n",
    "        self.credit_hours = credit_hours\n",
    "\n",
    "    def display_info(self):\n",
    "        return f\"{self.course_code}: {self.course_name} ({self.credit_hours} credit hours)\"\n",
    "\n",
    "class CoreCourse(Course):\n",
    "    def __init__(self, course_code, course_name, credit_hours, required_for_major):\n",
    "        super().__init__(course_code, course_name, credit_hours)\n",
    "        self.required_for_major = required_for_major\n",
    "\n",
    "    def display_info(self):\n",
    "        status = \"Required\" if self.required_for_major else \"Not Required\"\n",
    "        return f\"{super().display_info()} - {status} for major\"\n",
    "\n",
    "class ElectiveCourse(Course):\n",
    "    def __init__(self, course_code, course_name, credit_hours, elective_type):\n",
    "        super().__init__(course_code, course_name, credit_hours)\n",
    "        self.elective_type = elective_type\n",
    "\n",
    "    def display_info(self):\n",
    "        return f\"{super().display_info()} - Elective Type: {self.elective_type}\"\n",
    "\n",
    "core = CoreCourse(\"CS101\", \"Introduction to Computer Science\", 3, True)\n",
    "elective = ElectiveCourse(\"HIST202\", \"World History\", 2, \"liberal arts\")\n",
    "\n",
    "print(core.display_info())\n",
    "print(elective.display_info())"
   ]
  },
  {
   "cell_type": "markdown",
   "id": "033ff93d-d572-4b46-84b9-a79ce150f747",
   "metadata": {},
   "source": [
    " Create a Python module named employee that contains a class Employee with attributes name, salary and methods get_name() and get_salary(). Write a program to use this module to create an object of the Employee class and display its name and salary."
   ]
  },
  {
   "cell_type": "code",
   "execution_count": 12,
   "id": "06d0ade7-6d6a-4e22-932c-85e379449660",
   "metadata": {},
   "outputs": [
    {
     "name": "stdout",
     "output_type": "stream",
     "text": [
      "Overwriting employee.py\n"
     ]
    }
   ],
   "source": [
    "%%writefile employee.py\n",
    "\n",
    "class Employee:\n",
    "    def __init__(self, name, salary):\n",
    "        self._name = name\n",
    "        self._salary = salary\n",
    "\n",
    "    def get_name(self):\n",
    "        return self._name\n",
    "\n",
    "    def get_salary(self):\n",
    "        return self._salary\n"
   ]
  },
  {
   "cell_type": "code",
   "execution_count": 14,
   "id": "6ea344bd-3a36-45aa-bc29-bd826d9766ca",
   "metadata": {},
   "outputs": [
    {
     "name": "stdout",
     "output_type": "stream",
     "text": [
      "Employee Name: Alice\n",
      "Employee Salary: 60000\n"
     ]
    }
   ],
   "source": [
    "from employee import Employee\n",
    "\n",
    "emp = Employee(\"Alice\", 60000)\n",
    "print(\"Employee Name:\", emp.get_name())\n",
    "print(\"Employee Salary:\", emp.get_salary())\n"
   ]
  },
  {
   "cell_type": "code",
   "execution_count": null,
   "id": "4130971c-2174-4605-88c2-e1ec0828660a",
   "metadata": {},
   "outputs": [],
   "source": []
  }
 ],
 "metadata": {
  "kernelspec": {
   "display_name": "Python [conda env:base] *",
   "language": "python",
   "name": "conda-base-py"
  },
  "language_info": {
   "codemirror_mode": {
    "name": "ipython",
    "version": 3
   },
   "file_extension": ".py",
   "mimetype": "text/x-python",
   "name": "python",
   "nbconvert_exporter": "python",
   "pygments_lexer": "ipython3",
   "version": "3.12.7"
  }
 },
 "nbformat": 4,
 "nbformat_minor": 5
}
